{
 "cells": [
  {
   "cell_type": "markdown",
   "metadata": {},
   "source": [
    "Добро пожаловать в 4 лр Замотохиной Марии. Сегодня мы будем анализировать мишек)"
   ]
  },
  {
   "cell_type": "code",
   "execution_count": 1,
   "metadata": {},
   "outputs": [],
   "source": [
    "import csv\n",
    "import cv2\n",
    "import matplotlib.pyplot as plt\n",
    "import random\n",
    "import pandas as pd"
   ]
  },
  {
   "cell_type": "markdown",
   "metadata": {},
   "source": [
    "Функция сортировки датасета по метке класса"
   ]
  },
  {
   "cell_type": "code",
   "execution_count": 14,
   "metadata": {},
   "outputs": [],
   "source": [
    "def filtering(dataframe, class_type):\n",
    "\n",
    "    class_name = ''\n",
    "    if (class_type == 1):\n",
    "        class_name = 'brown_bears'\n",
    "    if (class_type == 2):\n",
    "        class_name = 'polar_bears'\n",
    "    res_dataframe = (dataframe[dataframe.class_name == class_name])\n",
    "    return res_dataframe"
   ]
  },
  {
   "cell_type": "markdown",
   "metadata": {},
   "source": [
    "Функция сортировки датасета по метке класса и размерам кратинки"
   ]
  },
  {
   "cell_type": "code",
   "execution_count": 25,
   "metadata": {},
   "outputs": [],
   "source": [
    "def shape_filtering(dataframe, class_type, max_width, max_hight):\n",
    "    class_name = ''\n",
    "    if (class_type == 1):\n",
    "        class_name = 'brown_bears'\n",
    "    if (class_type == 2):\n",
    "        class_name = 'polar_bears'\n",
    "    print('width = ', max_width)\n",
    "    print('hight = ', max_hight)\n",
    "    res_dataframe = (dataframe[dataframe.class_name == class_name][\n",
    "                     dataframe.image_width <= max_width][dataframe.image_hight <= max_hight])\n",
    "    return res_dataframe"
   ]
  },
  {
   "cell_type": "markdown",
   "metadata": {},
   "source": [
    "функция создает массивы для дальнейшего создания гистограммы, выводит картинку, с которой работаем и общие графики распределения цветов"
   ]
  },
  {
   "cell_type": "code",
   "execution_count": 16,
   "metadata": {},
   "outputs": [],
   "source": [
    "def create_histograma(dataframe, class_type):\n",
    "    result = [[], [], []]\n",
    "    print('class_type = ', class_type)\n",
    "    if (class_type == 1):\n",
    "        image_index = random.randint(0, 1100)\n",
    "    if (class_type == 2):\n",
    "        image_index = random.randint(1100, 2200)\n",
    "    image_way = filtering(dataframe, class_type)[\n",
    "        'absolute_way'].loc[image_index]\n",
    "\n",
    "    image = cv2.imread(image_way)\n",
    "\n",
    "    cv2.imshow(f'image number {image_index}', image)\n",
    "    cv2.waitKey(0)\n",
    "\n",
    "    color = ('b', 'g', 'r')\n",
    "    for i, col in enumerate(color):\n",
    "        histr = cv2.calcHist([image], [i], None, [256], [0, 256])\n",
    "        plt.plot(histr, color=col)\n",
    "        plt.xlim([0, 256])\n",
    "        result[i] = histr\n",
    "    plt.gcf().canvas.set_window_title(f'картинка номер {image_index}')\n",
    "    plt.show()\n",
    "\n",
    "    return result"
   ]
  },
  {
   "cell_type": "markdown",
   "metadata": {},
   "source": [
    "функция выводит на экран столбчатую гисторамму заданного цвета\n",
    "hisrt_data (_type_): массив с данными о цвете(0 элемент - название цвета, 1 элемент - массив со значениями)"
   ]
  },
  {
   "cell_type": "code",
   "execution_count": 17,
   "metadata": {},
   "outputs": [],
   "source": [
    "def show_histograma(hisrt_data):\n",
    "    color = hisrt_data[0]\n",
    "    name_color = hisrt_data[1]\n",
    "\n",
    "    if name_color == \"r\":\n",
    "        plt.hist(color, color=\"red\")\n",
    "        plt.title(\"Red color\", color=\"red\")\n",
    "    if name_color == \"g\":\n",
    "        plt.hist(color, color=\"green\")\n",
    "        plt.title(\"Green color\", color=\"green\")\n",
    "    if name_color == \"b\":\n",
    "        plt.hist(color, color=\"blue\")\n",
    "        plt.title(\"Blue color\", color=\"blue\")\n",
    "    plt.xlabel(\"Intensity\")\n",
    "    plt.ylabel(\"Number of pixels\")\n",
    "    plt.show()"
   ]
  },
  {
   "cell_type": "code",
   "execution_count": null,
   "metadata": {},
   "outputs": [],
   "source": [
    "создание датафрейма"
   ]
  },
  {
   "cell_type": "code",
   "execution_count": 2,
   "metadata": {},
   "outputs": [],
   "source": [
    "file_name = 'dataset.csv'\n",
    "class_label = []\n",
    "class_name = []\n",
    "absolute_way = []\n",
    "with open(file_name) as file:\n",
    "    reader = csv.reader(file)\n",
    "    for row in reader:\n",
    "        if row[2] == 'brown_bears':\n",
    "            class_label.append(0)\n",
    "        elif row[2] == 'polar_bears':\n",
    "            class_label.append(1)\n",
    "        else:\n",
    "            class_label.append('class label')\n",
    "        class_name.append(row[2])\n",
    "        absolute_way.append(row[0])\n",
    "\n",
    "dataframe = pd.DataFrame(\n",
    "    {\n",
    "        class_name[0]: pd.array(class_name[1:]),\n",
    "        absolute_way[0]: pd.array(absolute_way[1:]),\n",
    "    }\n",
    ")"
   ]
  },
  {
   "cell_type": "markdown",
   "metadata": {},
   "source": [
    "переименование колонок"
   ]
  },
  {
   "cell_type": "code",
   "execution_count": 3,
   "metadata": {},
   "outputs": [],
   "source": [
    "dataframe = dataframe.rename(\n",
    "    columns={class_name[0]: 'class_name',\n",
    "                absolute_way[0]: 'absolute_way'}\n",
    ")"
   ]
  },
  {
   "cell_type": "markdown",
   "metadata": {},
   "source": [
    "добавление столбца с меткой класса"
   ]
  },
  {
   "cell_type": "code",
   "execution_count": 4,
   "metadata": {},
   "outputs": [],
   "source": [
    "dataframe['class_label'] = pd.array(class_label[1:])"
   ]
  },
  {
   "cell_type": "markdown",
   "metadata": {},
   "source": [
    "Получение необходимой информации об изображениях\n",
    "\n",
    "Добавление столбца с информацией о высоте, ширине и глубине (количество каналов) изображения"
   ]
  },
  {
   "cell_type": "code",
   "execution_count": 5,
   "metadata": {},
   "outputs": [],
   "source": [
    "image_width = []\n",
    "image_hight = []\n",
    "image_depth = []\n",
    "pixels_count = []\n",
    "for way in absolute_way[1:]:\n",
    "    try:\n",
    "        image = cv2.imread(way)\n",
    "        image_width.append(image.shape[1])\n",
    "        image_hight.append(image.shape[0])\n",
    "        image_depth.append(image.shape[2])\n",
    "        pixels_count.append(image.size)\n",
    "    except BaseException:\n",
    "        pass\n",
    "dataframe['image_width'] = pd.array(image_width)\n",
    "dataframe['image_hight'] = pd.array(image_hight)\n",
    "dataframe['image_depth'] = pd.array(image_depth)"
   ]
  },
  {
   "cell_type": "markdown",
   "metadata": {},
   "source": [
    "Долгожданный вывод датафрейма"
   ]
  },
  {
   "cell_type": "code",
   "execution_count": 8,
   "metadata": {},
   "outputs": [
    {
     "name": "stdout",
     "output_type": "stream",
     "text": [
      "       class_name  \\\n",
      "0     brown_bears   \n",
      "1     brown_bears   \n",
      "2     brown_bears   \n",
      "3     brown_bears   \n",
      "4     brown_bears   \n",
      "...           ...   \n",
      "2195  polar_bears   \n",
      "2196  polar_bears   \n",
      "2197  polar_bears   \n",
      "2198  polar_bears   \n",
      "2199  polar_bears   \n",
      "\n",
      "                                                                               absolute_way  \\\n",
      "0     C:\\Users\\zamot\\OneDrive\\Application-programming-laba-1-2\\dataset\\brown_bears\\0000.jpg   \n",
      "1     C:\\Users\\zamot\\OneDrive\\Application-programming-laba-1-2\\dataset\\brown_bears\\0001.jpg   \n",
      "2     C:\\Users\\zamot\\OneDrive\\Application-programming-laba-1-2\\dataset\\brown_bears\\0002.jpg   \n",
      "3     C:\\Users\\zamot\\OneDrive\\Application-programming-laba-1-2\\dataset\\brown_bears\\0003.jpg   \n",
      "4     C:\\Users\\zamot\\OneDrive\\Application-programming-laba-1-2\\dataset\\brown_bears\\0004.jpg   \n",
      "...                                                                                     ...   \n",
      "2195  C:\\Users\\zamot\\OneDrive\\Application-programming-laba-1-2\\dataset\\polar_bears\\1095.jpg   \n",
      "2196  C:\\Users\\zamot\\OneDrive\\Application-programming-laba-1-2\\dataset\\polar_bears\\1096.jpg   \n",
      "2197  C:\\Users\\zamot\\OneDrive\\Application-programming-laba-1-2\\dataset\\polar_bears\\1097.jpg   \n",
      "2198  C:\\Users\\zamot\\OneDrive\\Application-programming-laba-1-2\\dataset\\polar_bears\\1098.jpg   \n",
      "2199  C:\\Users\\zamot\\OneDrive\\Application-programming-laba-1-2\\dataset\\polar_bears\\1099.jpg   \n",
      "\n",
      "      class_label  image_width  image_hight  image_depth  \n",
      "0               0          478          320            3  \n",
      "1               0          427          320            3  \n",
      "2               0          480          300            3  \n",
      "3               0          427          320            3  \n",
      "4               0          480          300            3  \n",
      "...           ...          ...          ...          ...  \n",
      "2195            1          427          320            3  \n",
      "2196            1          480          248            3  \n",
      "2197            1          480          300            3  \n",
      "2198            1          256          320            3  \n",
      "2199            1          320          320            3  \n",
      "\n",
      "[2200 rows x 6 columns]\n"
     ]
    }
   ],
   "source": [
    "print(dataframe)"
   ]
  },
  {
   "cell_type": "markdown",
   "metadata": {},
   "source": [
    "Вывод статистической информации для столбцов, содержащих информацию о размерах изображения (ширина, высота, глубина) и метках класса"
   ]
  },
  {
   "cell_type": "code",
   "execution_count": 9,
   "metadata": {},
   "outputs": [
    {
     "name": "stdout",
     "output_type": "stream",
     "text": [
      "\n",
      "width statistic\n",
      " count    2200.000000\n",
      "mean      445.061364\n",
      "std        70.594657\n",
      "min       148.000000\n",
      "25%       435.500000\n",
      "50%       480.000000\n",
      "75%       480.000000\n",
      "max       480.000000\n",
      "Name: image_width, dtype: float64\n",
      "\n",
      "hight statistic\n",
      " count    2200.000000\n",
      "mean      310.901364\n",
      "std        16.732162\n",
      "min       228.000000\n",
      "25%       304.000000\n",
      "50%       320.000000\n",
      "75%       320.000000\n",
      "max       320.000000\n",
      "Name: image_hight, dtype: float64\n",
      "\n",
      "depth statistic\n",
      " count    2200.0\n",
      "mean        3.0\n",
      "std         0.0\n",
      "min         3.0\n",
      "25%         3.0\n",
      "50%         3.0\n",
      "75%         3.0\n",
      "max         3.0\n",
      "Name: image_depth, dtype: float64\n",
      "\n",
      "class label statistic\n",
      " count    2200.000000\n",
      "mean        0.500000\n",
      "std         0.500114\n",
      "min         0.000000\n",
      "25%         0.000000\n",
      "50%         0.500000\n",
      "75%         1.000000\n",
      "max         1.000000\n",
      "Name: class_label, dtype: float64\n"
     ]
    }
   ],
   "source": [
    "print('\\nwidth statistic\\n', dataframe['image_width'].describe())\n",
    "print('\\nhight statistic\\n', dataframe['image_hight'].describe())\n",
    "print('\\ndepth statistic\\n', dataframe['image_depth'].describe())\n",
    "print('\\nclass label statistic\\n', dataframe['class_label'].describe())\n"
   ]
  },
  {
   "cell_type": "markdown",
   "metadata": {},
   "source": [
    "Выбор класса, с которым будем работать\n",
    "Нажмите 1, чтобы выбрать бурых мишек\n",
    "Нажмите 2, чтобы выбрать полярных мишек\n",
    "\n"
   ]
  },
  {
   "cell_type": "code",
   "execution_count": 22,
   "metadata": {},
   "outputs": [
    {
     "name": "stdout",
     "output_type": "stream",
     "text": [
      "input width\n",
      "input hight\n",
      "\n",
      "class_label =  1\n",
      "width =  400\n",
      "hight =  300\n"
     ]
    }
   ],
   "source": [
    "choise = int(input())\n",
    "\n",
    "\n",
    "print('\\nclass_label = ', choise)\n"
   ]
  },
  {
   "cell_type": "markdown",
   "metadata": {},
   "source": [
    "вывод датафрейма, отсортированного по метке класаа"
   ]
  },
  {
   "cell_type": "code",
   "execution_count": 24,
   "metadata": {},
   "outputs": [
    {
     "name": "stdout",
     "output_type": "stream",
     "text": [
      "       class_name  \\\n",
      "0     brown_bears   \n",
      "1     brown_bears   \n",
      "2     brown_bears   \n",
      "3     brown_bears   \n",
      "4     brown_bears   \n",
      "...           ...   \n",
      "1095  brown_bears   \n",
      "1096  brown_bears   \n",
      "1097  brown_bears   \n",
      "1098  brown_bears   \n",
      "1099  brown_bears   \n",
      "\n",
      "                                                                               absolute_way  \\\n",
      "0     C:\\Users\\zamot\\OneDrive\\Application-programming-laba-1-2\\dataset\\brown_bears\\0000.jpg   \n",
      "1     C:\\Users\\zamot\\OneDrive\\Application-programming-laba-1-2\\dataset\\brown_bears\\0001.jpg   \n",
      "2     C:\\Users\\zamot\\OneDrive\\Application-programming-laba-1-2\\dataset\\brown_bears\\0002.jpg   \n",
      "3     C:\\Users\\zamot\\OneDrive\\Application-programming-laba-1-2\\dataset\\brown_bears\\0003.jpg   \n",
      "4     C:\\Users\\zamot\\OneDrive\\Application-programming-laba-1-2\\dataset\\brown_bears\\0004.jpg   \n",
      "...                                                                                     ...   \n",
      "1095  C:\\Users\\zamot\\OneDrive\\Application-programming-laba-1-2\\dataset\\brown_bears\\1095.jpg   \n",
      "1096  C:\\Users\\zamot\\OneDrive\\Application-programming-laba-1-2\\dataset\\brown_bears\\1096.jpg   \n",
      "1097  C:\\Users\\zamot\\OneDrive\\Application-programming-laba-1-2\\dataset\\brown_bears\\1097.jpg   \n",
      "1098  C:\\Users\\zamot\\OneDrive\\Application-programming-laba-1-2\\dataset\\brown_bears\\1098.jpg   \n",
      "1099  C:\\Users\\zamot\\OneDrive\\Application-programming-laba-1-2\\dataset\\brown_bears\\1099.jpg   \n",
      "\n",
      "      class_label  image_width  image_hight  image_depth  \n",
      "0               0          478          320            3  \n",
      "1               0          427          320            3  \n",
      "2               0          480          300            3  \n",
      "3               0          427          320            3  \n",
      "4               0          480          300            3  \n",
      "...           ...          ...          ...          ...  \n",
      "1095            0          480          320            3  \n",
      "1096            0          471          320            3  \n",
      "1097            0          480          270            3  \n",
      "1098            0          240          320            3  \n",
      "1099            0          404          320            3  \n",
      "\n",
      "[1100 rows x 6 columns]\n"
     ]
    }
   ],
   "source": [
    "print(filtering(dataframe, choise))"
   ]
  },
  {
   "cell_type": "markdown",
   "metadata": {},
   "source": [
    "вывод датафрейма, отсортированного по размерам изображений"
   ]
  },
  {
   "cell_type": "code",
   "execution_count": 33,
   "metadata": {},
   "outputs": [
    {
     "name": "stdout",
     "output_type": "stream",
     "text": [
      "width =  300\n",
      "hight =  400\n",
      "       class_name  \\\n",
      "40    brown_bears   \n",
      "59    brown_bears   \n",
      "60    brown_bears   \n",
      "68    brown_bears   \n",
      "71    brown_bears   \n",
      "...           ...   \n",
      "1069  brown_bears   \n",
      "1071  brown_bears   \n",
      "1073  brown_bears   \n",
      "1080  brown_bears   \n",
      "1098  brown_bears   \n",
      "\n",
      "                                                                               absolute_way  \\\n",
      "40    C:\\Users\\zamot\\OneDrive\\Application-programming-laba-1-2\\dataset\\brown_bears\\0040.jpg   \n",
      "59    C:\\Users\\zamot\\OneDrive\\Application-programming-laba-1-2\\dataset\\brown_bears\\0059.jpg   \n",
      "60    C:\\Users\\zamot\\OneDrive\\Application-programming-laba-1-2\\dataset\\brown_bears\\0060.jpg   \n",
      "68    C:\\Users\\zamot\\OneDrive\\Application-programming-laba-1-2\\dataset\\brown_bears\\0068.jpg   \n",
      "71    C:\\Users\\zamot\\OneDrive\\Application-programming-laba-1-2\\dataset\\brown_bears\\0071.jpg   \n",
      "...                                                                                     ...   \n",
      "1069  C:\\Users\\zamot\\OneDrive\\Application-programming-laba-1-2\\dataset\\brown_bears\\1069.jpg   \n",
      "1071  C:\\Users\\zamot\\OneDrive\\Application-programming-laba-1-2\\dataset\\brown_bears\\1071.jpg   \n",
      "1073  C:\\Users\\zamot\\OneDrive\\Application-programming-laba-1-2\\dataset\\brown_bears\\1073.jpg   \n",
      "1080  C:\\Users\\zamot\\OneDrive\\Application-programming-laba-1-2\\dataset\\brown_bears\\1080.jpg   \n",
      "1098  C:\\Users\\zamot\\OneDrive\\Application-programming-laba-1-2\\dataset\\brown_bears\\1098.jpg   \n",
      "\n",
      "      class_label  image_width  image_hight  image_depth  \n",
      "40              0          213          320            3  \n",
      "59              0          277          320            3  \n",
      "60              0          277          320            3  \n",
      "68              0          213          320            3  \n",
      "71              0          214          320            3  \n",
      "...           ...          ...          ...          ...  \n",
      "1069            0          213          320            3  \n",
      "1071            0          228          320            3  \n",
      "1073            0          180          320            3  \n",
      "1080            0          291          320            3  \n",
      "1098            0          240          320            3  \n",
      "\n",
      "[89 rows x 6 columns]\n"
     ]
    },
    {
     "name": "stderr",
     "output_type": "stream",
     "text": [
      "C:\\Users\\zamot\\AppData\\Local\\Temp\\ipykernel_3996\\2392495346.py:9: UserWarning: Boolean Series key will be reindexed to match DataFrame index.\n",
      "  res_dataframe = (dataframe[dataframe.class_name == class_name][\n",
      "C:\\Users\\zamot\\AppData\\Local\\Temp\\ipykernel_3996\\2392495346.py:9: UserWarning: Boolean Series key will be reindexed to match DataFrame index.\n",
      "  res_dataframe = (dataframe[dataframe.class_name == class_name][\n"
     ]
    }
   ],
   "source": [
    "print(shape_filtering(dataframe, choise, 300, 400))"
   ]
  },
  {
   "cell_type": "markdown",
   "metadata": {},
   "source": [
    "Добавление столбцов с количеством пикселей у изображений и группировка датафрейма по метке класса с вычислением максимального, минимального и среднего значения по количеству пикселей"
   ]
  },
  {
   "cell_type": "code",
   "execution_count": null,
   "metadata": {},
   "outputs": [],
   "source": [
    "dataframe['pixels_count'] = pd.array(pixels_count)\n",
    "print('\\nmin pixels\\n')\n",
    "print(dataframe.groupby('class_name').pixels_count.min())\n",
    "print('\\nmax pixels\\n')\n",
    "print(dataframe.groupby('class_name').pixels_count.max())\n",
    "print('\\nmean pixels\\n')\n",
    "print(dataframe.groupby('class_name').pixels_count.mean())"
   ]
  },
  {
   "cell_type": "markdown",
   "metadata": {},
   "source": [
    "Формирование данных для построения гистограммы"
   ]
  },
  {
   "cell_type": "code",
   "execution_count": null,
   "metadata": {},
   "outputs": [],
   "source": [
    "data_for_histograma = create_histograma(dataframe, choise)\n",
    "about_picture = [(data_for_histograma[0], 'b'),\n",
    "                 (data_for_histograma[1], 'g'),\n",
    "                 (data_for_histograma[2], 'r')]"
   ]
  },
  {
   "cell_type": "markdown",
   "metadata": {},
   "source": [
    "Вывод гистограммы для конкретного цвета\n",
    "\n",
    "Выберите цвет:\n",
    "    Нажмите 0, чтобы увидеть синюю гистограмму\n",
    "    Нажмите 1, чтобы увидеть синюю гистограмму\n",
    "    Нажмите 2, чтобы увидеть синюю гистограмму"
   ]
  },
  {
   "cell_type": "code",
   "execution_count": null,
   "metadata": {},
   "outputs": [],
   "source": [
    "color_choise = int(input())"
   ]
  },
  {
   "cell_type": "code",
   "execution_count": null,
   "metadata": {},
   "outputs": [],
   "source": [
    "show_histograma(about_picture[color_choise])"
   ]
  }
 ],
 "metadata": {
  "kernelspec": {
   "display_name": "Python 3.9.12 ('base')",
   "language": "python",
   "name": "python3"
  },
  "language_info": {
   "codemirror_mode": {
    "name": "ipython",
    "version": 3
   },
   "file_extension": ".py",
   "mimetype": "text/x-python",
   "name": "python",
   "nbconvert_exporter": "python",
   "pygments_lexer": "ipython3",
   "version": "3.9.12"
  },
  "orig_nbformat": 4,
  "vscode": {
   "interpreter": {
    "hash": "e62308fffb09b004ba63e7db542a9f944b323da8120bf0eddc8e07f6e85d961a"
   }
  }
 },
 "nbformat": 4,
 "nbformat_minor": 2
}
