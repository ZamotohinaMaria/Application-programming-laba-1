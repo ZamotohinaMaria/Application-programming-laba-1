{
 "cells": [
  {
   "attachments": {},
   "cell_type": "markdown",
   "metadata": {},
   "source": [
    "# Добро пожаловать в 4 лр Замотохиной Марии. Сегодня мы будем анализировать мишек)"
   ]
  },
  {
   "cell_type": "code",
   "execution_count": 2,
   "metadata": {},
   "outputs": [],
   "source": [
    "import csv\n",
    "import cv2\n",
    "import matplotlib.pyplot as plt\n",
    "import random\n",
    "import pandas as pd"
   ]
  },
  {
   "attachments": {},
   "cell_type": "markdown",
   "metadata": {},
   "source": [
    "## punkt 1\n",
    "создание датафрейма"
   ]
  },
  {
   "cell_type": "code",
   "execution_count": 3,
   "metadata": {},
   "outputs": [],
   "source": [
    "file_name = 'dataset.csv'\n",
    "class_label = []\n",
    "class_name = []\n",
    "absolute_way = []\n",
    "with open(file_name) as file:\n",
    "    reader = csv.reader(file)\n",
    "    for row in reader:\n",
    "        if row[2] == 'brown_bears':\n",
    "            class_label.append(0)\n",
    "        elif row[2] == 'polar_bears':\n",
    "            class_label.append(1)\n",
    "        else:\n",
    "            class_label.append('class label')\n",
    "        class_name.append(row[2])\n",
    "        absolute_way.append(row[0])\n",
    "\n",
    "dataframe = pd.DataFrame(\n",
    "    {\n",
    "        class_name[0]: pd.array(class_name[1:]),\n",
    "        absolute_way[0]: pd.array(absolute_way[1:]),\n",
    "    }\n",
    ")"
   ]
  },
  {
   "attachments": {},
   "cell_type": "markdown",
   "metadata": {},
   "source": [
    "## punkt 2\n",
    "переименование колонок"
   ]
  },
  {
   "cell_type": "code",
   "execution_count": 4,
   "metadata": {},
   "outputs": [],
   "source": [
    "dataframe = dataframe.rename(\n",
    "    columns={class_name[0]: 'class_name',\n",
    "                absolute_way[0]: 'absolute_way'}\n",
    ")"
   ]
  },
  {
   "attachments": {},
   "cell_type": "markdown",
   "metadata": {},
   "source": [
    "## punkt 3\n",
    "добавление столбца с меткой класса"
   ]
  },
  {
   "cell_type": "code",
   "execution_count": 5,
   "metadata": {},
   "outputs": [],
   "source": [
    "dataframe['class_label'] = pd.array(class_label[1:])"
   ]
  },
  {
   "attachments": {},
   "cell_type": "markdown",
   "metadata": {},
   "source": [
    "## punkt 4\n",
    "Получение необходимой информации об изображениях\n",
    "\n",
    "Добавление столбца с информацией о высоте, ширине и глубине (количество каналов) изображения"
   ]
  },
  {
   "cell_type": "code",
   "execution_count": 6,
   "metadata": {},
   "outputs": [],
   "source": [
    "image_width = []\n",
    "image_hight = []\n",
    "image_depth = []\n",
    "pixels_count = []\n",
    "for way in absolute_way[1:]:\n",
    "    try:\n",
    "        image = cv2.imread(way)\n",
    "        image_width.append(image.shape[1])\n",
    "        image_hight.append(image.shape[0])\n",
    "        image_depth.append(image.shape[2])\n",
    "        pixels_count.append(image.size)\n",
    "    except BaseException:\n",
    "        pass\n",
    "dataframe['image_width'] = pd.array(image_width)\n",
    "dataframe['image_hight'] = pd.array(image_hight)\n",
    "dataframe['image_depth'] = pd.array(image_depth)"
   ]
  },
  {
   "cell_type": "markdown",
   "metadata": {},
   "source": [
    "Долгожданный вывод датафрейма"
   ]
  },
  {
   "cell_type": "code",
   "execution_count": 7,
   "metadata": {},
   "outputs": [
    {
     "name": "stdout",
     "output_type": "stream",
     "text": [
      "       class_name                                       absolute_way  \\\n",
      "0     brown_bears  C:\\Users\\zamot\\OneDrive\\Application-programmin...   \n",
      "1     brown_bears  C:\\Users\\zamot\\OneDrive\\Application-programmin...   \n",
      "2     brown_bears  C:\\Users\\zamot\\OneDrive\\Application-programmin...   \n",
      "3     brown_bears  C:\\Users\\zamot\\OneDrive\\Application-programmin...   \n",
      "4     brown_bears  C:\\Users\\zamot\\OneDrive\\Application-programmin...   \n",
      "...           ...                                                ...   \n",
      "2195  polar_bears  C:\\Users\\zamot\\OneDrive\\Application-programmin...   \n",
      "2196  polar_bears  C:\\Users\\zamot\\OneDrive\\Application-programmin...   \n",
      "2197  polar_bears  C:\\Users\\zamot\\OneDrive\\Application-programmin...   \n",
      "2198  polar_bears  C:\\Users\\zamot\\OneDrive\\Application-programmin...   \n",
      "2199  polar_bears  C:\\Users\\zamot\\OneDrive\\Application-programmin...   \n",
      "\n",
      "      class_label  image_width  image_hight  image_depth  \n",
      "0               0          478          320            3  \n",
      "1               0          427          320            3  \n",
      "2               0          480          300            3  \n",
      "3               0          427          320            3  \n",
      "4               0          480          300            3  \n",
      "...           ...          ...          ...          ...  \n",
      "2195            1          427          320            3  \n",
      "2196            1          480          248            3  \n",
      "2197            1          480          300            3  \n",
      "2198            1          256          320            3  \n",
      "2199            1          320          320            3  \n",
      "\n",
      "[2200 rows x 6 columns]\n"
     ]
    }
   ],
   "source": [
    "print(dataframe)"
   ]
  },
  {
   "attachments": {},
   "cell_type": "markdown",
   "metadata": {},
   "source": [
    "## punkt 5\n",
    "Вывод статистической информации для столбцов, содержащих информацию о размерах изображения (ширина, высота, глубина) и метках класса"
   ]
  },
  {
   "cell_type": "code",
   "execution_count": 8,
   "metadata": {},
   "outputs": [
    {
     "name": "stdout",
     "output_type": "stream",
     "text": [
      "\n",
      "width statistic\n",
      " count    2200.000000\n",
      "mean      445.061364\n",
      "std        70.594657\n",
      "min       148.000000\n",
      "25%       435.500000\n",
      "50%       480.000000\n",
      "75%       480.000000\n",
      "max       480.000000\n",
      "Name: image_width, dtype: float64\n",
      "\n",
      "hight statistic\n",
      " count    2200.000000\n",
      "mean      310.901364\n",
      "std        16.732162\n",
      "min       228.000000\n",
      "25%       304.000000\n",
      "50%       320.000000\n",
      "75%       320.000000\n",
      "max       320.000000\n",
      "Name: image_hight, dtype: float64\n",
      "\n",
      "depth statistic\n",
      " count    2200.0\n",
      "mean        3.0\n",
      "std         0.0\n",
      "min         3.0\n",
      "25%         3.0\n",
      "50%         3.0\n",
      "75%         3.0\n",
      "max         3.0\n",
      "Name: image_depth, dtype: float64\n",
      "\n",
      "class label statistic\n",
      " count    2200.000000\n",
      "mean        0.500000\n",
      "std         0.500114\n",
      "min         0.000000\n",
      "25%         0.000000\n",
      "50%         0.500000\n",
      "75%         1.000000\n",
      "max         1.000000\n",
      "Name: class_label, dtype: float64\n"
     ]
    }
   ],
   "source": [
    "print('\\nwidth statistic\\n', dataframe['image_width'].describe())\n",
    "print('\\nhight statistic\\n', dataframe['image_hight'].describe())\n",
    "print('\\ndepth statistic\\n', dataframe['image_depth'].describe())\n",
    "print('\\nclass label statistic\\n', dataframe['class_label'].describe())\n"
   ]
  },
  {
   "attachments": {},
   "cell_type": "markdown",
   "metadata": {},
   "source": [
    "## punkt 6\n",
    "Выбор класса, с которым будем работать\n",
    "Нажмите 1, чтобы выбрать бурых мишек\n",
    "Нажмите 2, чтобы выбрать полярных мишек"
   ]
  },
  {
   "cell_type": "code",
   "execution_count": 9,
   "metadata": {},
   "outputs": [
    {
     "name": "stdout",
     "output_type": "stream",
     "text": [
      "\n",
      "class_label =  1\n"
     ]
    }
   ],
   "source": [
    "choise = int(input())\n",
    "\n",
    "\n",
    "print('\\nclass_label = ', choise)\n"
   ]
  },
  {
   "attachments": {},
   "cell_type": "markdown",
   "metadata": {},
   "source": [
    "Функция сортировки датасета по метке класса"
   ]
  },
  {
   "cell_type": "code",
   "execution_count": 10,
   "metadata": {},
   "outputs": [],
   "source": [
    "def filtering(dataframe, class_type):\n",
    "    class_name = ''\n",
    "    if (class_type == 1):\n",
    "        class_name = 'brown_bears'\n",
    "    if (class_type == 2):\n",
    "        class_name = 'polar_bears'\n",
    "    res_dataframe = (dataframe[dataframe.class_name == class_name])\n",
    "    return res_dataframe"
   ]
  },
  {
   "cell_type": "markdown",
   "metadata": {},
   "source": [
    "вывод датафрейма, отсортированного по метке класаа"
   ]
  },
  {
   "cell_type": "code",
   "execution_count": 11,
   "metadata": {},
   "outputs": [
    {
     "name": "stdout",
     "output_type": "stream",
     "text": [
      "       class_name                                       absolute_way  \\\n",
      "0     brown_bears  C:\\Users\\zamot\\OneDrive\\Application-programmin...   \n",
      "1     brown_bears  C:\\Users\\zamot\\OneDrive\\Application-programmin...   \n",
      "2     brown_bears  C:\\Users\\zamot\\OneDrive\\Application-programmin...   \n",
      "3     brown_bears  C:\\Users\\zamot\\OneDrive\\Application-programmin...   \n",
      "4     brown_bears  C:\\Users\\zamot\\OneDrive\\Application-programmin...   \n",
      "...           ...                                                ...   \n",
      "1095  brown_bears  C:\\Users\\zamot\\OneDrive\\Application-programmin...   \n",
      "1096  brown_bears  C:\\Users\\zamot\\OneDrive\\Application-programmin...   \n",
      "1097  brown_bears  C:\\Users\\zamot\\OneDrive\\Application-programmin...   \n",
      "1098  brown_bears  C:\\Users\\zamot\\OneDrive\\Application-programmin...   \n",
      "1099  brown_bears  C:\\Users\\zamot\\OneDrive\\Application-programmin...   \n",
      "\n",
      "      class_label  image_width  image_hight  image_depth  \n",
      "0               0          478          320            3  \n",
      "1               0          427          320            3  \n",
      "2               0          480          300            3  \n",
      "3               0          427          320            3  \n",
      "4               0          480          300            3  \n",
      "...           ...          ...          ...          ...  \n",
      "1095            0          480          320            3  \n",
      "1096            0          471          320            3  \n",
      "1097            0          480          270            3  \n",
      "1098            0          240          320            3  \n",
      "1099            0          404          320            3  \n",
      "\n",
      "[1100 rows x 6 columns]\n"
     ]
    }
   ],
   "source": [
    "print(filtering(dataframe, choise))"
   ]
  },
  {
   "attachments": {},
   "cell_type": "markdown",
   "metadata": {},
   "source": [
    "## punkt 7"
   ]
  },
  {
   "attachments": {},
   "cell_type": "markdown",
   "metadata": {},
   "source": [
    "Функция сортировки датасета по метке класса и размерам кратинки"
   ]
  },
  {
   "cell_type": "code",
   "execution_count": 12,
   "metadata": {},
   "outputs": [],
   "source": [
    "def shape_filtering(dataframe, class_type, max_width, max_hight):\n",
    "    class_name = ''\n",
    "    if (class_type == 1):\n",
    "        class_name = 'brown_bears'\n",
    "    if (class_type == 2):\n",
    "        class_name = 'polar_bears'\n",
    "    print('width = ', max_width)\n",
    "    print('hight = ', max_hight)\n",
    "    res_dataframe = (dataframe[dataframe.class_name == class_name][\n",
    "                     dataframe.image_width <= max_width][dataframe.image_hight <= max_hight])\n",
    "    return res_dataframe"
   ]
  },
  {
   "cell_type": "markdown",
   "metadata": {},
   "source": [
    "вывод датафрейма, отсортированного по размерам изображений"
   ]
  },
  {
   "cell_type": "code",
   "execution_count": 13,
   "metadata": {},
   "outputs": [
    {
     "name": "stdout",
     "output_type": "stream",
     "text": [
      "width =  300\n",
      "hight =  400\n",
      "       class_name                                       absolute_way  \\\n",
      "40    brown_bears  C:\\Users\\zamot\\OneDrive\\Application-programmin...   \n",
      "59    brown_bears  C:\\Users\\zamot\\OneDrive\\Application-programmin...   \n",
      "60    brown_bears  C:\\Users\\zamot\\OneDrive\\Application-programmin...   \n",
      "68    brown_bears  C:\\Users\\zamot\\OneDrive\\Application-programmin...   \n",
      "71    brown_bears  C:\\Users\\zamot\\OneDrive\\Application-programmin...   \n",
      "...           ...                                                ...   \n",
      "1069  brown_bears  C:\\Users\\zamot\\OneDrive\\Application-programmin...   \n",
      "1071  brown_bears  C:\\Users\\zamot\\OneDrive\\Application-programmin...   \n",
      "1073  brown_bears  C:\\Users\\zamot\\OneDrive\\Application-programmin...   \n",
      "1080  brown_bears  C:\\Users\\zamot\\OneDrive\\Application-programmin...   \n",
      "1098  brown_bears  C:\\Users\\zamot\\OneDrive\\Application-programmin...   \n",
      "\n",
      "      class_label  image_width  image_hight  image_depth  \n",
      "40              0          213          320            3  \n",
      "59              0          277          320            3  \n",
      "60              0          277          320            3  \n",
      "68              0          213          320            3  \n",
      "71              0          214          320            3  \n",
      "...           ...          ...          ...          ...  \n",
      "1069            0          213          320            3  \n",
      "1071            0          228          320            3  \n",
      "1073            0          180          320            3  \n",
      "1080            0          291          320            3  \n",
      "1098            0          240          320            3  \n",
      "\n",
      "[89 rows x 6 columns]\n"
     ]
    },
    {
     "name": "stderr",
     "output_type": "stream",
     "text": [
      "C:\\Users\\zamot\\AppData\\Local\\Temp\\ipykernel_12184\\2392495346.py:9: UserWarning: Boolean Series key will be reindexed to match DataFrame index.\n",
      "  res_dataframe = (dataframe[dataframe.class_name == class_name][\n",
      "C:\\Users\\zamot\\AppData\\Local\\Temp\\ipykernel_12184\\2392495346.py:9: UserWarning: Boolean Series key will be reindexed to match DataFrame index.\n",
      "  res_dataframe = (dataframe[dataframe.class_name == class_name][\n"
     ]
    }
   ],
   "source": [
    "print(shape_filtering(dataframe, choise, 300, 400))"
   ]
  },
  {
   "attachments": {},
   "cell_type": "markdown",
   "metadata": {},
   "source": [
    "## punkt 8\n",
    "Добавление столбцов с количеством пикселей у изображений и группировка датафрейма по метке класса с вычислением максимального, минимального и среднего значения по количеству пикселей"
   ]
  },
  {
   "cell_type": "code",
   "execution_count": 14,
   "metadata": {},
   "outputs": [
    {
     "name": "stdout",
     "output_type": "stream",
     "text": [
      "\n",
      "min pixels\n",
      "\n",
      "class_name\n",
      "brown_bears    153600\n",
      "polar_bears    142080\n",
      "Name: pixels_count, dtype: Int64\n",
      "\n",
      "max pixels\n",
      "\n",
      "class_name\n",
      "brown_bears    460800\n",
      "polar_bears    460800\n",
      "Name: pixels_count, dtype: Int64\n",
      "\n",
      "mean pixels\n",
      "\n",
      "class_name\n",
      "brown_bears    413191.854545\n",
      "polar_bears    415121.890909\n",
      "Name: pixels_count, dtype: Float64\n"
     ]
    }
   ],
   "source": [
    "dataframe['pixels_count'] = pd.array(pixels_count)\n",
    "print('\\nmin pixels\\n')\n",
    "print(dataframe.groupby('class_name').pixels_count.min())\n",
    "print('\\nmax pixels\\n')\n",
    "print(dataframe.groupby('class_name').pixels_count.max())\n",
    "print('\\nmean pixels\\n')\n",
    "print(dataframe.groupby('class_name').pixels_count.mean())"
   ]
  },
  {
   "attachments": {},
   "cell_type": "markdown",
   "metadata": {},
   "source": [
    "## punkt 9"
   ]
  },
  {
   "attachments": {},
   "cell_type": "markdown",
   "metadata": {},
   "source": [
    "функция создает массивы для дальнейшего создания гистограммы, выводит картинку, с которой работаем и общие графики распределения цветов"
   ]
  },
  {
   "cell_type": "code",
   "execution_count": 15,
   "metadata": {},
   "outputs": [],
   "source": [
    "def create_histograma(dataframe, class_type):\n",
    "    result = [[], [], []]\n",
    "    print('class_type = ', class_type)\n",
    "    if (class_type == 1):\n",
    "        image_index = random.randint(0, 1100)\n",
    "    if (class_type == 2):\n",
    "        image_index = random.randint(1100, 2200)\n",
    "    image_way = filtering(dataframe, class_type)[\n",
    "        'absolute_way'].loc[image_index]\n",
    "\n",
    "    image = cv2.imread(image_way)\n",
    "\n",
    "    cv2.imshow(f'image number {image_index}', image)\n",
    "    cv2.waitKey(0)\n",
    "\n",
    "    color = ('b', 'g', 'r')\n",
    "    for i, col in enumerate(color):\n",
    "        histr = cv2.calcHist([image], [i], None, [256], [0, 256])\n",
    "        plt.plot(histr, color=col)\n",
    "        plt.xlim([0, 256])\n",
    "        result[i] = histr\n",
    "    plt.gcf().canvas.set_window_title(f'картинка номер {image_index}')\n",
    "    plt.show()\n",
    "\n",
    "    return result"
   ]
  },
  {
   "attachments": {},
   "cell_type": "markdown",
   "metadata": {},
   "source": [
    "Формирование данных для построения гистограммы (картинка выводится с помощью cv2 и показывается в отдельном окне)"
   ]
  },
  {
   "cell_type": "code",
   "execution_count": 17,
   "metadata": {},
   "outputs": [
    {
     "name": "stdout",
     "output_type": "stream",
     "text": [
      "class_type =  1\n"
     ]
    },
    {
     "name": "stderr",
     "output_type": "stream",
     "text": [
      "C:\\Users\\zamot\\AppData\\Local\\Temp\\ipykernel_12184\\2132126157.py:22: MatplotlibDeprecationWarning: \n",
      "The set_window_title function was deprecated in Matplotlib 3.4 and will be removed two minor releases later. Use manager.set_window_title or GUI-specific methods instead.\n",
      "  plt.gcf().canvas.set_window_title(f'картинка номер {image_index}')\n"
     ]
    },
    {
     "data": {
      "image/png": "[encoded data removed]",
      "text/plain": [
       "<Figure size 432x288 with 1 Axes>"
      ]
     },
     "metadata": {
      "needs_background": "light"
     },
     "output_type": "display_data"
    }
   ],
   "source": [
    "data_for_histograma = create_histograma(dataframe, choise)\n",
    "about_picture = [(data_for_histograma[0], 'b'),\n",
    "                 (data_for_histograma[1], 'g'),\n",
    "                 (data_for_histograma[2], 'r')]"
   ]
  },
  {
   "attachments": {},
   "cell_type": "markdown",
   "metadata": {},
   "source": [
    "# punkt 10"
   ]
  },
  {
   "attachments": {},
   "cell_type": "markdown",
   "metadata": {},
   "source": [
    "функция выводит на экран столбчатую гисторамму заданного цвета\n",
    "hisrt_data (_type_): массив с данными о цвете(0 элемент - название цвета, 1 элемент - массив со значениями)"
   ]
  },
  {
   "cell_type": "code",
   "execution_count": 19,
   "metadata": {},
   "outputs": [],
   "source": [
    "def show_histograma(hisrt_data):\n",
    "    color = hisrt_data[0]\n",
    "    name_color = hisrt_data[1]\n",
    "\n",
    "    if name_color == \"r\":\n",
    "        plt.hist(color, color=\"red\")\n",
    "        plt.title(\"Red color\", color=\"red\")\n",
    "    if name_color == \"g\":\n",
    "        plt.hist(color, color=\"green\")\n",
    "        plt.title(\"Green color\", color=\"green\")\n",
    "    if name_color == \"b\":\n",
    "        plt.hist(color, color=\"blue\")\n",
    "        plt.title(\"Blue color\", color=\"blue\")\n",
    "    plt.xlabel(\"Intensity\")\n",
    "    plt.ylabel(\"Number of pixels\")\n",
    "    plt.show()"
   ]
  },
  {
   "cell_type": "markdown",
   "metadata": {},
   "source": [
    "Вывод гистограммы для конкретного цвета\n",
    "\n",
    "Выберите цвет:\n",
    "    Нажмите 0, чтобы увидеть синюю гистограмму\n",
    "    Нажмите 1, чтобы увидеть зеленую гистограмму\n",
    "    Нажмите 2, чтобы увидеть красную гистограмму"
   ]
  },
  {
   "cell_type": "code",
   "execution_count": 20,
   "metadata": {},
   "outputs": [],
   "source": [
    "color_choise = int(input())"
   ]
  },
  {
   "cell_type": "code",
   "execution_count": 21,
   "metadata": {},
   "outputs": [
    {
     "data": {
      "image/png": "[encoded data removed]",
      "text/plain": [
       "<Figure size 432x288 with 1 Axes>"
      ]
     },
     "metadata": {
      "needs_background": "light"
     },
     "output_type": "display_data"
    }
   ],
   "source": [
    "show_histograma(about_picture[color_choise])"
   ]
  }
 ],
 "metadata": {
  "kernelspec": {
   "display_name": "Python 3.9.12 ('base')",
   "language": "python",
   "name": "python3"
  },
  "language_info": {
   "codemirror_mode": {
    "name": "ipython",
    "version": 3
   },
   "file_extension": ".py",
   "mimetype": "text/x-python",
   "name": "python",
   "nbconvert_exporter": "python",
   "pygments_lexer": "ipython3",
   "version": "3.9.12"
  },
  "orig_nbformat": 4,
  "vscode": {
   "interpreter": {
    "hash": "e62308fffb09b004ba63e7db542a9f944b323da8120bf0eddc8e07f6e85d961a"
   }
  }
 },
 "nbformat": 4,
 "nbformat_minor": 2
}
